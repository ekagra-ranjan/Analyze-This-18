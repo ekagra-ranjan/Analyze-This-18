{
 "cells": [
  {
   "cell_type": "code",
   "execution_count": 1,
   "metadata": {
    "collapsed": true
   },
   "outputs": [],
   "source": [
    "import pandas as pd\n",
    "import numpy as np"
   ]
  },
  {
   "cell_type": "code",
   "execution_count": 2,
   "metadata": {},
   "outputs": [
    {
     "data": {
      "text/plain": [
       "'0.22.0'"
      ]
     },
     "execution_count": 2,
     "metadata": {},
     "output_type": "execute_result"
    }
   ],
   "source": [
    "pd.__version__"
   ]
  },
  {
   "cell_type": "code",
   "execution_count": 12,
   "metadata": {},
   "outputs": [
    {
     "name": "stdout",
     "output_type": "stream",
     "text": [
      "[sudo] password for ekka: Collecting pandas\n",
      "\u001b[33m  Retrying (Retry(total=4, connect=None, read=None, redirect=None, status=None)) after connection broken by 'NewConnectionError('<pip._vendor.urllib3.connection.VerifiedHTTPSConnection object at 0x7f5ab4566d30>: Failed to establish a new connection: [Errno -2] Name or service not known',)': /simple/pandas/\u001b[0m\n",
      "\u001b[33m  Retrying (Retry(total=3, connect=None, read=None, redirect=None, status=None)) after connection broken by 'NewConnectionError('<pip._vendor.urllib3.connection.VerifiedHTTPSConnection object at 0x7f5ab4566f28>: Failed to establish a new connection: [Errno -2] Name or service not known',)': /simple/pandas/\u001b[0m\n",
      "\u001b[33m  Retrying (Retry(total=2, connect=None, read=None, redirect=None, status=None)) after connection broken by 'NewConnectionError('<pip._vendor.urllib3.connection.VerifiedHTTPSConnection object at 0x7f5ab4566438>: Failed to establish a new connection: [Errno -2] Name or service not known',)': /simple/pandas/\u001b[0m\n",
      "\u001b[33m  Retrying (Retry(total=1, connect=None, read=None, redirect=None, status=None)) after connection broken by 'NewConnectionError('<pip._vendor.urllib3.connection.VerifiedHTTPSConnection object at 0x7f5ab4566fd0>: Failed to establish a new connection: [Errno -2] Name or service not known',)': /simple/pandas/\u001b[0m\n",
      "^C\n"
     ]
    }
   ],
   "source": [
    "!echo {\"ekka\"}|sudo -S {\"sudo -S -E -H pip3 install --upgrade pandas\"}"
   ]
  },
  {
   "cell_type": "code",
   "execution_count": 13,
   "metadata": {},
   "outputs": [
    {
     "name": "stdout",
     "output_type": "stream",
     "text": [
      "········\n"
     ]
    },
    {
     "data": {
      "text/plain": [
       "256"
      ]
     },
     "execution_count": 13,
     "metadata": {},
     "output_type": "execute_result"
    }
   ],
   "source": [
    "import getpass\n",
    "import os\n",
    "\n",
    "password = getpass.getpass()\n",
    "command = \"sudo -S pip3 install --upgrade pandas\" #can be any command but don't forget -S as it enables input from stdin\n",
    "os.system('echo %s | %s' % (password, command))"
   ]
  },
  {
   "cell_type": "code",
   "execution_count": 6,
   "metadata": {
    "scrolled": true
   },
   "outputs": [
    {
     "name": "stdout",
     "output_type": "stream",
     "text": [
      "[sudo] password for ekka: \n"
     ]
    }
   ],
   "source": [
    "!sudo -S pip3 install --upgrade pandas"
   ]
  },
  {
   "cell_type": "code",
   "execution_count": 3,
   "metadata": {},
   "outputs": [
    {
     "name": "stdout",
     "output_type": "stream",
     "text": [
      "\u001b[33mCache entry deserialization failed, entry ignored\u001b[0m\n",
      "Collecting pip\n",
      "  Downloading https://files.pythonhosted.org/packages/5f/25/e52d3f31441505a5f3af41213346e5b6c221c9e086a166f3703d2ddaf940/pip-18.0-py2.py3-none-any.whl (1.3MB)\n",
      "\u001b[K    100% |████████████████████████████████| 1.3MB 918kB/s eta 0:00:01\n",
      "\u001b[?25hInstalling collected packages: pip\n",
      "  Found existing installation: pip 9.0.1\n",
      "    Uninstalling pip-9.0.1:\n",
      "      Successfully uninstalled pip-9.0.1\n",
      "Successfully installed pip-18.0\n"
     ]
    }
   ],
   "source": [
    "!pip install --upgrade pip"
   ]
  },
  {
   "cell_type": "code",
   "execution_count": 3,
   "metadata": {},
   "outputs": [
    {
     "name": "stderr",
     "output_type": "stream",
     "text": [
      "/usr/local/lib/python2.7/dist-packages/IPython/core/interactiveshell.py:2718: DtypeWarning: Columns (19) have mixed types. Specify dtype option on import or set low_memory=False.\n",
      "  interactivity=interactivity, compiler=compiler, result=result)\n"
     ]
    }
   ],
   "source": [
    "train_data = pd.read_csv(\"./data/Training_dataset_Original.csv\")\n",
    "leaderboard_data = pd.read_csv(\"./data/Leaderboard_dataset.csv\")\n",
    "test_data = pd.read_csv(\"./data/Evaluation_dataset.csv\")"
   ]
  },
  {
   "cell_type": "code",
   "execution_count": 4,
   "metadata": {
    "collapsed": true
   },
   "outputs": [],
   "source": [
    "train_data_original = train_data.copy()\n",
    "leaderboard_data_original = leaderboard_data.copy()\n",
    "test_data_original = test_data.copy()"
   ]
  },
  {
   "cell_type": "raw",
   "metadata": {},
   "source": []
  },
  {
   "cell_type": "code",
   "execution_count": null,
   "metadata": {
    "collapsed": true
   },
   "outputs": [],
   "source": []
  },
  {
   "cell_type": "code",
   "execution_count": 5,
   "metadata": {},
   "outputs": [
    {
     "data": {
      "text/plain": [
       "application_key        0\n",
       "mvar1                  0\n",
       "mvar2               1954\n",
       "mvar3                170\n",
       "mvar4                170\n",
       "mvar5                170\n",
       "mvar6                  0\n",
       "mvar7                  0\n",
       "mvar8                  0\n",
       "mvar9                  0\n",
       "mvar10                 0\n",
       "mvar11                 0\n",
       "mvar12                 0\n",
       "mvar13                 0\n",
       "mvar14                 0\n",
       "mvar15                 0\n",
       "mvar16                 0\n",
       "mvar17                 0\n",
       "mvar18                 0\n",
       "mvar19                 0\n",
       "mvar20                 0\n",
       "mvar21              7387\n",
       "mvar22              9831\n",
       "mvar23             13399\n",
       "mvar24              6117\n",
       "mvar25                 0\n",
       "mvar26                 0\n",
       "mvar27                 0\n",
       "mvar28                 0\n",
       "mvar29                 0\n",
       "mvar30                 0\n",
       "mvar31                 0\n",
       "mvar32                 0\n",
       "mvar33               616\n",
       "mvar34                 0\n",
       "mvar35                 0\n",
       "mvar36                 0\n",
       "mvar37                 0\n",
       "mvar38                 0\n",
       "mvar39                 0\n",
       "mvar40                 0\n",
       "mvar41                 0\n",
       "mvar42                 0\n",
       "mvar43                 0\n",
       "mvar44              2625\n",
       "mvar45                 0\n",
       "mvar46                 0\n",
       "mvar47                 0\n",
       "dtype: int64"
      ]
     },
     "execution_count": 5,
     "metadata": {},
     "output_type": "execute_result"
    }
   ],
   "source": [
    "test_data.isna().sum()"
   ]
  },
  {
   "cell_type": "code",
   "execution_count": 6,
   "metadata": {
    "collapsed": true
   },
   "outputs": [],
   "source": [
    "import matplotlib.pyplot as plt"
   ]
  },
  {
   "cell_type": "code",
   "execution_count": 7,
   "metadata": {},
   "outputs": [
    {
     "data": {
      "text/plain": [
       "<matplotlib.axes._subplots.AxesSubplot at 0x7f8027eb6a10>"
      ]
     },
     "execution_count": 7,
     "metadata": {},
     "output_type": "execute_result"
    }
   ],
   "source": [
    "train_data.plot(x = 'mvar1',y = 'mvar2')"
   ]
  },
  {
   "cell_type": "code",
   "execution_count": 8,
   "metadata": {},
   "outputs": [
    {
     "data": {
      "text/plain": [
       "<matplotlib.axes._subplots.AxesSubplot at 0x7f8027e1a750>"
      ]
     },
     "execution_count": 8,
     "metadata": {},
     "output_type": "execute_result"
    }
   ],
   "source": [
    "train_data.boxplot(column = \"mvar2\",by = \"default_ind\")"
   ]
  },
  {
   "cell_type": "code",
   "execution_count": 9,
   "metadata": {},
   "outputs": [
    {
     "data": {
      "text/plain": [
       "55439"
      ]
     },
     "execution_count": 9,
     "metadata": {},
     "output_type": "execute_result"
    }
   ],
   "source": [
    "train_data['mvar2'][train_data['default_ind'] == 0].count()"
   ]
  },
  {
   "cell_type": "code",
   "execution_count": 10,
   "metadata": {
    "collapsed": true
   },
   "outputs": [],
   "source": [
    "bx = train_data.boxplot(column = 'mvar3',return_type = \"both\")"
   ]
  },
  {
   "cell_type": "code",
   "execution_count": 11,
   "metadata": {},
   "outputs": [
    {
     "data": {
      "text/plain": [
       "19872"
      ]
     },
     "execution_count": 11,
     "metadata": {},
     "output_type": "execute_result"
    }
   ],
   "source": [
    "train_data['mvar3'][train_data['mvar3'] > 6.447].count()"
   ]
  },
  {
   "cell_type": "code",
   "execution_count": 12,
   "metadata": {},
   "outputs": [
    {
     "data": {
      "text/plain": [
       "count    61098.000000\n",
       "mean        69.981834\n",
       "std        300.080442\n",
       "min          0.000000\n",
       "25%          9.892500\n",
       "50%         40.440000\n",
       "75%         76.540000\n",
       "max      27867.400000\n",
       "Name: mvar24, dtype: float64"
      ]
     },
     "execution_count": 12,
     "metadata": {},
     "output_type": "execute_result"
    }
   ],
   "source": [
    "train_data['mvar24'].describe()"
   ]
  },
  {
   "cell_type": "code",
   "execution_count": 13,
   "metadata": {},
   "outputs": [
    {
     "data": {
      "text/plain": [
       "4460"
      ]
     },
     "execution_count": 13,
     "metadata": {},
     "output_type": "execute_result"
    }
   ],
   "source": [
    "train_data['mvar21'][train_data['mvar21'] > 100].count()"
   ]
  },
  {
   "cell_type": "code",
   "execution_count": 14,
   "metadata": {
    "collapsed": true
   },
   "outputs": [],
   "source": [
    "train_data['mvar1'] = pd.to_numeric(train_data['mvar1'], errors='coerce')"
   ]
  },
  {
   "cell_type": "code",
   "execution_count": 15,
   "metadata": {},
   "outputs": [
    {
     "data": {
      "text/plain": [
       "count    76361.000000\n",
       "mean      1745.971085\n",
       "std         94.537617\n",
       "min       1493.000000\n",
       "25%       1679.000000\n",
       "50%       1742.000000\n",
       "75%       1810.000000\n",
       "max       1950.000000\n",
       "Name: mvar1, dtype: float64"
      ]
     },
     "execution_count": 15,
     "metadata": {},
     "output_type": "execute_result"
    }
   ],
   "source": [
    "train_data['mvar1'].describe()"
   ]
  },
  {
   "cell_type": "code",
   "execution_count": 16,
   "metadata": {},
   "outputs": [
    {
     "data": {
      "text/plain": [
       "<matplotlib.axes._subplots.AxesSubplot at 0x7f8027d2d390>"
      ]
     },
     "execution_count": 16,
     "metadata": {},
     "output_type": "execute_result"
    }
   ],
   "source": [
    "train_data.boxplot(column = 'mvar1',by = 'default_ind')"
   ]
  },
  {
   "cell_type": "code",
   "execution_count": 17,
   "metadata": {
    "collapsed": true
   },
   "outputs": [],
   "source": [
    "train_data['mvar6'] = pd.to_numeric(train_data['mvar6'], errors='coerce')"
   ]
  },
  {
   "cell_type": "code",
   "execution_count": 18,
   "metadata": {},
   "outputs": [
    {
     "data": {
      "text/plain": [
       "count     61036.000000\n",
       "mean       1606.702372\n",
       "std        3703.654127\n",
       "min           0.000000\n",
       "25%          36.000000\n",
       "50%         297.000000\n",
       "75%        1343.250000\n",
       "max      136595.000000\n",
       "Name: mvar6, dtype: float64"
      ]
     },
     "execution_count": 18,
     "metadata": {},
     "output_type": "execute_result"
    }
   ],
   "source": [
    "train_data['mvar6'].describe()"
   ]
  },
  {
   "cell_type": "code",
   "execution_count": 19,
   "metadata": {
    "collapsed": true
   },
   "outputs": [],
   "source": [
    "for column in train_data.columns:\n",
    "    if column != 'application_key':\n",
    "        train_data[column] = pd.to_numeric(train_data[column], errors='coerce')"
   ]
  },
  {
   "cell_type": "code",
   "execution_count": 20,
   "metadata": {
    "scrolled": true
   },
   "outputs": [
    {
     "data": {
      "text/html": [
       "<div>\n",
       "<style scoped>\n",
       "    .dataframe tbody tr th:only-of-type {\n",
       "        vertical-align: middle;\n",
       "    }\n",
       "\n",
       "    .dataframe tbody tr th {\n",
       "        vertical-align: top;\n",
       "    }\n",
       "\n",
       "    .dataframe thead th {\n",
       "        text-align: right;\n",
       "    }\n",
       "</style>\n",
       "<table border=\"1\" class=\"dataframe\">\n",
       "  <thead>\n",
       "    <tr style=\"text-align: right;\">\n",
       "      <th></th>\n",
       "      <th>application_key</th>\n",
       "      <th>mvar1</th>\n",
       "      <th>mvar2</th>\n",
       "      <th>mvar3</th>\n",
       "      <th>mvar4</th>\n",
       "      <th>mvar5</th>\n",
       "      <th>mvar6</th>\n",
       "      <th>mvar7</th>\n",
       "      <th>mvar8</th>\n",
       "      <th>mvar9</th>\n",
       "      <th>...</th>\n",
       "      <th>mvar39</th>\n",
       "      <th>mvar40</th>\n",
       "      <th>mvar41</th>\n",
       "      <th>mvar42</th>\n",
       "      <th>mvar43</th>\n",
       "      <th>mvar44</th>\n",
       "      <th>mvar45</th>\n",
       "      <th>mvar46</th>\n",
       "      <th>mvar47</th>\n",
       "      <th>default_ind</th>\n",
       "    </tr>\n",
       "  </thead>\n",
       "  <tbody>\n",
       "    <tr>\n",
       "      <th>count</th>\n",
       "      <td>80000.000000</td>\n",
       "      <td>76361.000000</td>\n",
       "      <td>74447.000000</td>\n",
       "      <td>79499.000000</td>\n",
       "      <td>79499.000000</td>\n",
       "      <td>79499.00000</td>\n",
       "      <td>61036.000000</td>\n",
       "      <td>7.260600e+04</td>\n",
       "      <td>61036.00000</td>\n",
       "      <td>6.859200e+04</td>\n",
       "      <td>...</td>\n",
       "      <td>73960.000000</td>\n",
       "      <td>17443.000000</td>\n",
       "      <td>25422.000000</td>\n",
       "      <td>78099.000000</td>\n",
       "      <td>79182.000000</td>\n",
       "      <td>72255.000000</td>\n",
       "      <td>35145.000000</td>\n",
       "      <td>57211.000000</td>\n",
       "      <td>0.0</td>\n",
       "      <td>80000.000000</td>\n",
       "    </tr>\n",
       "    <tr>\n",
       "      <th>mean</th>\n",
       "      <td>270031.500000</td>\n",
       "      <td>1745.971085</td>\n",
       "      <td>1.105629</td>\n",
       "      <td>5.280955</td>\n",
       "      <td>0.474516</td>\n",
       "      <td>1.12472</td>\n",
       "      <td>1606.702372</td>\n",
       "      <td>1.759581e+04</td>\n",
       "      <td>6773.68666</td>\n",
       "      <td>3.409744e+04</td>\n",
       "      <td>...</td>\n",
       "      <td>0.090819</td>\n",
       "      <td>98.497452</td>\n",
       "      <td>72.096758</td>\n",
       "      <td>0.335142</td>\n",
       "      <td>6.552777</td>\n",
       "      <td>0.705285</td>\n",
       "      <td>0.070736</td>\n",
       "      <td>0.096135</td>\n",
       "      <td>NaN</td>\n",
       "      <td>0.246213</td>\n",
       "    </tr>\n",
       "    <tr>\n",
       "      <th>std</th>\n",
       "      <td>23094.155105</td>\n",
       "      <td>94.537617</td>\n",
       "      <td>1.645299</td>\n",
       "      <td>10.815463</td>\n",
       "      <td>1.796261</td>\n",
       "      <td>5.99545</td>\n",
       "      <td>3703.654127</td>\n",
       "      <td>4.708164e+04</td>\n",
       "      <td>10127.74526</td>\n",
       "      <td>5.337692e+04</td>\n",
       "      <td>...</td>\n",
       "      <td>0.419301</td>\n",
       "      <td>29.762399</td>\n",
       "      <td>24.442156</td>\n",
       "      <td>0.375656</td>\n",
       "      <td>6.311087</td>\n",
       "      <td>0.245879</td>\n",
       "      <td>0.287365</td>\n",
       "      <td>0.346109</td>\n",
       "      <td>NaN</td>\n",
       "      <td>0.430806</td>\n",
       "    </tr>\n",
       "    <tr>\n",
       "      <th>min</th>\n",
       "      <td>230032.000000</td>\n",
       "      <td>1493.000000</td>\n",
       "      <td>0.000000</td>\n",
       "      <td>0.000000</td>\n",
       "      <td>0.000000</td>\n",
       "      <td>0.00000</td>\n",
       "      <td>0.000000</td>\n",
       "      <td>0.000000e+00</td>\n",
       "      <td>0.00000</td>\n",
       "      <td>0.000000e+00</td>\n",
       "      <td>...</td>\n",
       "      <td>0.000000</td>\n",
       "      <td>0.014000</td>\n",
       "      <td>0.000000</td>\n",
       "      <td>0.000000</td>\n",
       "      <td>0.000000</td>\n",
       "      <td>0.060660</td>\n",
       "      <td>0.000000</td>\n",
       "      <td>0.000000</td>\n",
       "      <td>NaN</td>\n",
       "      <td>0.000000</td>\n",
       "    </tr>\n",
       "    <tr>\n",
       "      <th>25%</th>\n",
       "      <td>250031.750000</td>\n",
       "      <td>1679.000000</td>\n",
       "      <td>0.140100</td>\n",
       "      <td>0.000000</td>\n",
       "      <td>0.000000</td>\n",
       "      <td>0.00000</td>\n",
       "      <td>36.000000</td>\n",
       "      <td>1.756000e+03</td>\n",
       "      <td>490.00000</td>\n",
       "      <td>3.498000e+03</td>\n",
       "      <td>...</td>\n",
       "      <td>0.000000</td>\n",
       "      <td>90.689000</td>\n",
       "      <td>58.153000</td>\n",
       "      <td>0.000000</td>\n",
       "      <td>2.000000</td>\n",
       "      <td>0.515220</td>\n",
       "      <td>0.000000</td>\n",
       "      <td>0.000000</td>\n",
       "      <td>NaN</td>\n",
       "      <td>0.000000</td>\n",
       "    </tr>\n",
       "    <tr>\n",
       "      <th>50%</th>\n",
       "      <td>270031.500000</td>\n",
       "      <td>1742.000000</td>\n",
       "      <td>0.538900</td>\n",
       "      <td>0.300000</td>\n",
       "      <td>0.000000</td>\n",
       "      <td>0.00000</td>\n",
       "      <td>297.000000</td>\n",
       "      <td>6.967000e+03</td>\n",
       "      <td>2478.00000</td>\n",
       "      <td>1.417100e+04</td>\n",
       "      <td>...</td>\n",
       "      <td>0.000000</td>\n",
       "      <td>100.000000</td>\n",
       "      <td>78.883500</td>\n",
       "      <td>0.200000</td>\n",
       "      <td>5.000000</td>\n",
       "      <td>0.737030</td>\n",
       "      <td>0.000000</td>\n",
       "      <td>0.000000</td>\n",
       "      <td>NaN</td>\n",
       "      <td>0.000000</td>\n",
       "    </tr>\n",
       "    <tr>\n",
       "      <th>75%</th>\n",
       "      <td>290031.250000</td>\n",
       "      <td>1810.000000</td>\n",
       "      <td>1.445050</td>\n",
       "      <td>6.447000</td>\n",
       "      <td>0.000000</td>\n",
       "      <td>0.00000</td>\n",
       "      <td>1343.250000</td>\n",
       "      <td>1.805575e+04</td>\n",
       "      <td>9684.25000</td>\n",
       "      <td>4.385375e+04</td>\n",
       "      <td>...</td>\n",
       "      <td>0.000000</td>\n",
       "      <td>111.698000</td>\n",
       "      <td>91.639750</td>\n",
       "      <td>0.571430</td>\n",
       "      <td>10.000000</td>\n",
       "      <td>0.943475</td>\n",
       "      <td>0.000000</td>\n",
       "      <td>0.000000</td>\n",
       "      <td>NaN</td>\n",
       "      <td>0.000000</td>\n",
       "    </tr>\n",
       "    <tr>\n",
       "      <th>max</th>\n",
       "      <td>310031.000000</td>\n",
       "      <td>1950.000000</td>\n",
       "      <td>44.630100</td>\n",
       "      <td>286.858000</td>\n",
       "      <td>114.696000</td>\n",
       "      <td>226.52700</td>\n",
       "      <td>136595.000000</td>\n",
       "      <td>5.549600e+06</td>\n",
       "      <td>291810.00000</td>\n",
       "      <td>3.711880e+06</td>\n",
       "      <td>...</td>\n",
       "      <td>21.000000</td>\n",
       "      <td>430.300000</td>\n",
       "      <td>170.000000</td>\n",
       "      <td>2.000000</td>\n",
       "      <td>91.000000</td>\n",
       "      <td>1.000000</td>\n",
       "      <td>5.000000</td>\n",
       "      <td>19.000000</td>\n",
       "      <td>NaN</td>\n",
       "      <td>1.000000</td>\n",
       "    </tr>\n",
       "  </tbody>\n",
       "</table>\n",
       "<p>8 rows × 49 columns</p>\n",
       "</div>"
      ],
      "text/plain": [
       "       application_key         mvar1         mvar2         mvar3  \\\n",
       "count     80000.000000  76361.000000  74447.000000  79499.000000   \n",
       "mean     270031.500000   1745.971085      1.105629      5.280955   \n",
       "std       23094.155105     94.537617      1.645299     10.815463   \n",
       "min      230032.000000   1493.000000      0.000000      0.000000   \n",
       "25%      250031.750000   1679.000000      0.140100      0.000000   \n",
       "50%      270031.500000   1742.000000      0.538900      0.300000   \n",
       "75%      290031.250000   1810.000000      1.445050      6.447000   \n",
       "max      310031.000000   1950.000000     44.630100    286.858000   \n",
       "\n",
       "              mvar4        mvar5          mvar6         mvar7         mvar8  \\\n",
       "count  79499.000000  79499.00000   61036.000000  7.260600e+04   61036.00000   \n",
       "mean       0.474516      1.12472    1606.702372  1.759581e+04    6773.68666   \n",
       "std        1.796261      5.99545    3703.654127  4.708164e+04   10127.74526   \n",
       "min        0.000000      0.00000       0.000000  0.000000e+00       0.00000   \n",
       "25%        0.000000      0.00000      36.000000  1.756000e+03     490.00000   \n",
       "50%        0.000000      0.00000     297.000000  6.967000e+03    2478.00000   \n",
       "75%        0.000000      0.00000    1343.250000  1.805575e+04    9684.25000   \n",
       "max      114.696000    226.52700  136595.000000  5.549600e+06  291810.00000   \n",
       "\n",
       "              mvar9      ...             mvar39        mvar40        mvar41  \\\n",
       "count  6.859200e+04      ...       73960.000000  17443.000000  25422.000000   \n",
       "mean   3.409744e+04      ...           0.090819     98.497452     72.096758   \n",
       "std    5.337692e+04      ...           0.419301     29.762399     24.442156   \n",
       "min    0.000000e+00      ...           0.000000      0.014000      0.000000   \n",
       "25%    3.498000e+03      ...           0.000000     90.689000     58.153000   \n",
       "50%    1.417100e+04      ...           0.000000    100.000000     78.883500   \n",
       "75%    4.385375e+04      ...           0.000000    111.698000     91.639750   \n",
       "max    3.711880e+06      ...          21.000000    430.300000    170.000000   \n",
       "\n",
       "             mvar42        mvar43        mvar44        mvar45        mvar46  \\\n",
       "count  78099.000000  79182.000000  72255.000000  35145.000000  57211.000000   \n",
       "mean       0.335142      6.552777      0.705285      0.070736      0.096135   \n",
       "std        0.375656      6.311087      0.245879      0.287365      0.346109   \n",
       "min        0.000000      0.000000      0.060660      0.000000      0.000000   \n",
       "25%        0.000000      2.000000      0.515220      0.000000      0.000000   \n",
       "50%        0.200000      5.000000      0.737030      0.000000      0.000000   \n",
       "75%        0.571430     10.000000      0.943475      0.000000      0.000000   \n",
       "max        2.000000     91.000000      1.000000      5.000000     19.000000   \n",
       "\n",
       "       mvar47   default_ind  \n",
       "count     0.0  80000.000000  \n",
       "mean      NaN      0.246213  \n",
       "std       NaN      0.430806  \n",
       "min       NaN      0.000000  \n",
       "25%       NaN      0.000000  \n",
       "50%       NaN      0.000000  \n",
       "75%       NaN      0.000000  \n",
       "max       NaN      1.000000  \n",
       "\n",
       "[8 rows x 49 columns]"
      ]
     },
     "execution_count": 20,
     "metadata": {},
     "output_type": "execute_result"
    }
   ],
   "source": [
    "train_data.describe()"
   ]
  },
  {
   "cell_type": "code",
   "execution_count": 21,
   "metadata": {},
   "outputs": [
    {
     "data": {
      "text/plain": [
       "application_key        0\n",
       "mvar1               3639\n",
       "mvar2               5553\n",
       "mvar3                501\n",
       "mvar4                501\n",
       "mvar5                501\n",
       "mvar6              18964\n",
       "mvar7               7394\n",
       "mvar8              18964\n",
       "mvar9              11408\n",
       "mvar10               502\n",
       "mvar11             44819\n",
       "mvar12             14078\n",
       "mvar13              8352\n",
       "mvar14                 0\n",
       "mvar15             32067\n",
       "mvar16             18510\n",
       "mvar17             15846\n",
       "mvar18             14771\n",
       "mvar19                 4\n",
       "mvar20               502\n",
       "mvar21             22561\n",
       "mvar22             29124\n",
       "mvar23             40248\n",
       "mvar24             18902\n",
       "mvar25              7706\n",
       "mvar26             10610\n",
       "mvar27             13209\n",
       "mvar28               502\n",
       "mvar29               502\n",
       "mvar30             36417\n",
       "mvar31             56218\n",
       "mvar32              7706\n",
       "mvar33              1751\n",
       "mvar34               502\n",
       "mvar35             33014\n",
       "mvar36              2898\n",
       "mvar37              7706\n",
       "mvar38               502\n",
       "mvar39              6040\n",
       "mvar40             62557\n",
       "mvar41             54578\n",
       "mvar42              1901\n",
       "mvar43               818\n",
       "mvar44              7745\n",
       "mvar45             44855\n",
       "mvar46             22789\n",
       "mvar47             80000\n",
       "default_ind            0\n",
       "dtype: int64"
      ]
     },
     "execution_count": 21,
     "metadata": {},
     "output_type": "execute_result"
    }
   ],
   "source": [
    "train_data.isna().sum()"
   ]
  },
  {
   "cell_type": "code",
   "execution_count": 22,
   "metadata": {
    "collapsed": true
   },
   "outputs": [],
   "source": [
    "train_data.fillna(train_data.mean(),inplace = True)"
   ]
  },
  {
   "cell_type": "code",
   "execution_count": 23,
   "metadata": {},
   "outputs": [
    {
     "data": {
      "text/plain": [
       "application_key        0\n",
       "mvar1                  0\n",
       "mvar2                  0\n",
       "mvar3                  0\n",
       "mvar4                  0\n",
       "mvar5                  0\n",
       "mvar6                  0\n",
       "mvar7                  0\n",
       "mvar8                  0\n",
       "mvar9                  0\n",
       "mvar10                 0\n",
       "mvar11                 0\n",
       "mvar12                 0\n",
       "mvar13                 0\n",
       "mvar14                 0\n",
       "mvar15                 0\n",
       "mvar16                 0\n",
       "mvar17                 0\n",
       "mvar18                 0\n",
       "mvar19                 0\n",
       "mvar20                 0\n",
       "mvar21                 0\n",
       "mvar22                 0\n",
       "mvar23                 0\n",
       "mvar24                 0\n",
       "mvar25                 0\n",
       "mvar26                 0\n",
       "mvar27                 0\n",
       "mvar28                 0\n",
       "mvar29                 0\n",
       "mvar30                 0\n",
       "mvar31                 0\n",
       "mvar32                 0\n",
       "mvar33                 0\n",
       "mvar34                 0\n",
       "mvar35                 0\n",
       "mvar36                 0\n",
       "mvar37                 0\n",
       "mvar38                 0\n",
       "mvar39                 0\n",
       "mvar40                 0\n",
       "mvar41                 0\n",
       "mvar42                 0\n",
       "mvar43                 0\n",
       "mvar44                 0\n",
       "mvar45                 0\n",
       "mvar46                 0\n",
       "mvar47             80000\n",
       "default_ind            0\n",
       "dtype: int64"
      ]
     },
     "execution_count": 23,
     "metadata": {},
     "output_type": "execute_result"
    }
   ],
   "source": [
    "train_data.isna().sum()"
   ]
  },
  {
   "cell_type": "code",
   "execution_count": 24,
   "metadata": {
    "collapsed": true
   },
   "outputs": [],
   "source": [
    "train_data['mvar47'] = pd.get_dummies(train_data_original['mvar47'])"
   ]
  },
  {
   "cell_type": "code",
   "execution_count": null,
   "metadata": {
    "collapsed": true
   },
   "outputs": [],
   "source": []
  },
  {
   "cell_type": "code",
   "execution_count": 25,
   "metadata": {
    "collapsed": true
   },
   "outputs": [],
   "source": [
    "x_train = train_data.loc[:,'mvar1':'mvar47']\n",
    "y_train = train_data['default_ind']"
   ]
  },
  {
   "cell_type": "code",
   "execution_count": 26,
   "metadata": {},
   "outputs": [
    {
     "data": {
      "text/html": [
       "<div>\n",
       "<style scoped>\n",
       "    .dataframe tbody tr th:only-of-type {\n",
       "        vertical-align: middle;\n",
       "    }\n",
       "\n",
       "    .dataframe tbody tr th {\n",
       "        vertical-align: top;\n",
       "    }\n",
       "\n",
       "    .dataframe thead th {\n",
       "        text-align: right;\n",
       "    }\n",
       "</style>\n",
       "<table border=\"1\" class=\"dataframe\">\n",
       "  <thead>\n",
       "    <tr style=\"text-align: right;\">\n",
       "      <th></th>\n",
       "      <th>application_key</th>\n",
       "      <th>mvar2</th>\n",
       "      <th>mvar3</th>\n",
       "      <th>mvar4</th>\n",
       "      <th>mvar5</th>\n",
       "      <th>mvar14</th>\n",
       "      <th>mvar21</th>\n",
       "      <th>mvar22</th>\n",
       "      <th>mvar23</th>\n",
       "      <th>mvar24</th>\n",
       "      <th>mvar33</th>\n",
       "      <th>mvar44</th>\n",
       "    </tr>\n",
       "  </thead>\n",
       "  <tbody>\n",
       "    <tr>\n",
       "      <th>count</th>\n",
       "      <td>25000.000000</td>\n",
       "      <td>23294.000000</td>\n",
       "      <td>24842.000000</td>\n",
       "      <td>24842.000000</td>\n",
       "      <td>24842.000000</td>\n",
       "      <td>2.500000e+04</td>\n",
       "      <td>18106.000000</td>\n",
       "      <td>15919.000000</td>\n",
       "      <td>12359.000000</td>\n",
       "      <td>19223.000000</td>\n",
       "      <td>24461.000000</td>\n",
       "      <td>22538.000000</td>\n",
       "    </tr>\n",
       "    <tr>\n",
       "      <th>mean</th>\n",
       "      <td>362552.500000</td>\n",
       "      <td>1.118127</td>\n",
       "      <td>5.243267</td>\n",
       "      <td>0.463290</td>\n",
       "      <td>1.080183</td>\n",
       "      <td>1.523549e+05</td>\n",
       "      <td>57.885791</td>\n",
       "      <td>4427.876770</td>\n",
       "      <td>4270.918441</td>\n",
       "      <td>72.500520</td>\n",
       "      <td>6.920566</td>\n",
       "      <td>0.702558</td>\n",
       "    </tr>\n",
       "    <tr>\n",
       "      <th>std</th>\n",
       "      <td>7217.022701</td>\n",
       "      <td>1.658707</td>\n",
       "      <td>10.605688</td>\n",
       "      <td>1.688155</td>\n",
       "      <td>5.813250</td>\n",
       "      <td>6.337980e+06</td>\n",
       "      <td>35.344775</td>\n",
       "      <td>3813.637964</td>\n",
       "      <td>3774.419701</td>\n",
       "      <td>305.673992</td>\n",
       "      <td>7.655343</td>\n",
       "      <td>0.246612</td>\n",
       "    </tr>\n",
       "    <tr>\n",
       "      <th>min</th>\n",
       "      <td>350053.000000</td>\n",
       "      <td>0.000000</td>\n",
       "      <td>0.000000</td>\n",
       "      <td>0.000000</td>\n",
       "      <td>0.000000</td>\n",
       "      <td>0.000000e+00</td>\n",
       "      <td>0.117000</td>\n",
       "      <td>0.000000</td>\n",
       "      <td>0.000000</td>\n",
       "      <td>0.000000</td>\n",
       "      <td>0.083300</td>\n",
       "      <td>0.072760</td>\n",
       "    </tr>\n",
       "    <tr>\n",
       "      <th>25%</th>\n",
       "      <td>356302.750000</td>\n",
       "      <td>0.142725</td>\n",
       "      <td>0.000000</td>\n",
       "      <td>0.000000</td>\n",
       "      <td>0.000000</td>\n",
       "      <td>4.261300e+04</td>\n",
       "      <td>27.244750</td>\n",
       "      <td>750.845000</td>\n",
       "      <td>532.705000</td>\n",
       "      <td>10.345000</td>\n",
       "      <td>1.166700</td>\n",
       "      <td>0.509132</td>\n",
       "    </tr>\n",
       "    <tr>\n",
       "      <th>50%</th>\n",
       "      <td>362552.500000</td>\n",
       "      <td>0.542400</td>\n",
       "      <td>0.286000</td>\n",
       "      <td>0.000000</td>\n",
       "      <td>0.000000</td>\n",
       "      <td>7.234300e+04</td>\n",
       "      <td>59.569500</td>\n",
       "      <td>3978.570000</td>\n",
       "      <td>3707.500000</td>\n",
       "      <td>41.220000</td>\n",
       "      <td>3.833300</td>\n",
       "      <td>0.732740</td>\n",
       "    </tr>\n",
       "    <tr>\n",
       "      <th>75%</th>\n",
       "      <td>368802.250000</td>\n",
       "      <td>1.469375</td>\n",
       "      <td>6.480000</td>\n",
       "      <td>0.000000</td>\n",
       "      <td>0.000000</td>\n",
       "      <td>1.238750e+05</td>\n",
       "      <td>86.366500</td>\n",
       "      <td>7523.980000</td>\n",
       "      <td>7405.470000</td>\n",
       "      <td>76.250000</td>\n",
       "      <td>10.500000</td>\n",
       "      <td>0.942372</td>\n",
       "    </tr>\n",
       "    <tr>\n",
       "      <th>max</th>\n",
       "      <td>375052.000000</td>\n",
       "      <td>31.018100</td>\n",
       "      <td>167.740000</td>\n",
       "      <td>21.245200</td>\n",
       "      <td>156.878000</td>\n",
       "      <td>9.910000e+08</td>\n",
       "      <td>565.800000</td>\n",
       "      <td>99800.000000</td>\n",
       "      <td>41737.500000</td>\n",
       "      <td>22621.130000</td>\n",
       "      <td>76.500000</td>\n",
       "      <td>1.000000</td>\n",
       "    </tr>\n",
       "  </tbody>\n",
       "</table>\n",
       "</div>"
      ],
      "text/plain": [
       "       application_key         mvar2         mvar3         mvar4  \\\n",
       "count     25000.000000  23294.000000  24842.000000  24842.000000   \n",
       "mean     362552.500000      1.118127      5.243267      0.463290   \n",
       "std        7217.022701      1.658707     10.605688      1.688155   \n",
       "min      350053.000000      0.000000      0.000000      0.000000   \n",
       "25%      356302.750000      0.142725      0.000000      0.000000   \n",
       "50%      362552.500000      0.542400      0.286000      0.000000   \n",
       "75%      368802.250000      1.469375      6.480000      0.000000   \n",
       "max      375052.000000     31.018100    167.740000     21.245200   \n",
       "\n",
       "              mvar5        mvar14        mvar21        mvar22        mvar23  \\\n",
       "count  24842.000000  2.500000e+04  18106.000000  15919.000000  12359.000000   \n",
       "mean       1.080183  1.523549e+05     57.885791   4427.876770   4270.918441   \n",
       "std        5.813250  6.337980e+06     35.344775   3813.637964   3774.419701   \n",
       "min        0.000000  0.000000e+00      0.117000      0.000000      0.000000   \n",
       "25%        0.000000  4.261300e+04     27.244750    750.845000    532.705000   \n",
       "50%        0.000000  7.234300e+04     59.569500   3978.570000   3707.500000   \n",
       "75%        0.000000  1.238750e+05     86.366500   7523.980000   7405.470000   \n",
       "max      156.878000  9.910000e+08    565.800000  99800.000000  41737.500000   \n",
       "\n",
       "             mvar24        mvar33        mvar44  \n",
       "count  19223.000000  24461.000000  22538.000000  \n",
       "mean      72.500520      6.920566      0.702558  \n",
       "std      305.673992      7.655343      0.246612  \n",
       "min        0.000000      0.083300      0.072760  \n",
       "25%       10.345000      1.166700      0.509132  \n",
       "50%       41.220000      3.833300      0.732740  \n",
       "75%       76.250000     10.500000      0.942372  \n",
       "max    22621.130000     76.500000      1.000000  "
      ]
     },
     "execution_count": 26,
     "metadata": {},
     "output_type": "execute_result"
    }
   ],
   "source": [
    "leaderboard_data.describe()"
   ]
  },
  {
   "cell_type": "code",
   "execution_count": 27,
   "metadata": {
    "collapsed": true
   },
   "outputs": [],
   "source": [
    "for column in leaderboard_data.columns:\n",
    "    if column != 'application_key':\n",
    "        leaderboard_data[column] = pd.to_numeric(leaderboard_data[column], errors='coerce')"
   ]
  },
  {
   "cell_type": "code",
   "execution_count": 28,
   "metadata": {},
   "outputs": [
    {
     "data": {
      "text/html": [
       "<div>\n",
       "<style scoped>\n",
       "    .dataframe tbody tr th:only-of-type {\n",
       "        vertical-align: middle;\n",
       "    }\n",
       "\n",
       "    .dataframe tbody tr th {\n",
       "        vertical-align: top;\n",
       "    }\n",
       "\n",
       "    .dataframe thead th {\n",
       "        text-align: right;\n",
       "    }\n",
       "</style>\n",
       "<table border=\"1\" class=\"dataframe\">\n",
       "  <thead>\n",
       "    <tr style=\"text-align: right;\">\n",
       "      <th></th>\n",
       "      <th>application_key</th>\n",
       "      <th>mvar1</th>\n",
       "      <th>mvar2</th>\n",
       "      <th>mvar3</th>\n",
       "      <th>mvar4</th>\n",
       "      <th>mvar5</th>\n",
       "      <th>mvar6</th>\n",
       "      <th>mvar7</th>\n",
       "      <th>mvar8</th>\n",
       "      <th>mvar9</th>\n",
       "      <th>...</th>\n",
       "      <th>mvar38</th>\n",
       "      <th>mvar39</th>\n",
       "      <th>mvar40</th>\n",
       "      <th>mvar41</th>\n",
       "      <th>mvar42</th>\n",
       "      <th>mvar43</th>\n",
       "      <th>mvar44</th>\n",
       "      <th>mvar45</th>\n",
       "      <th>mvar46</th>\n",
       "      <th>mvar47</th>\n",
       "    </tr>\n",
       "  </thead>\n",
       "  <tbody>\n",
       "    <tr>\n",
       "      <th>count</th>\n",
       "      <td>25000.000000</td>\n",
       "      <td>23850.000000</td>\n",
       "      <td>23294.000000</td>\n",
       "      <td>24842.000000</td>\n",
       "      <td>24842.000000</td>\n",
       "      <td>24842.000000</td>\n",
       "      <td>19193.000000</td>\n",
       "      <td>2.269400e+04</td>\n",
       "      <td>19193.000000</td>\n",
       "      <td>21523.000000</td>\n",
       "      <td>...</td>\n",
       "      <td>24842.000000</td>\n",
       "      <td>23078.000000</td>\n",
       "      <td>5458.000000</td>\n",
       "      <td>7748.000000</td>\n",
       "      <td>24367.000000</td>\n",
       "      <td>24723.000000</td>\n",
       "      <td>22538.000000</td>\n",
       "      <td>11027.000000</td>\n",
       "      <td>17851.000000</td>\n",
       "      <td>0.0</td>\n",
       "    </tr>\n",
       "    <tr>\n",
       "      <th>mean</th>\n",
       "      <td>362552.500000</td>\n",
       "      <td>1746.901551</td>\n",
       "      <td>1.118127</td>\n",
       "      <td>5.243267</td>\n",
       "      <td>0.463290</td>\n",
       "      <td>1.080183</td>\n",
       "      <td>1624.069192</td>\n",
       "      <td>1.775037e+04</td>\n",
       "      <td>6753.202313</td>\n",
       "      <td>33825.554662</td>\n",
       "      <td>...</td>\n",
       "      <td>4.251349</td>\n",
       "      <td>0.089912</td>\n",
       "      <td>98.491140</td>\n",
       "      <td>71.990942</td>\n",
       "      <td>0.331992</td>\n",
       "      <td>6.546091</td>\n",
       "      <td>0.702558</td>\n",
       "      <td>0.071280</td>\n",
       "      <td>0.092712</td>\n",
       "      <td>NaN</td>\n",
       "    </tr>\n",
       "    <tr>\n",
       "      <th>std</th>\n",
       "      <td>7217.022701</td>\n",
       "      <td>94.088195</td>\n",
       "      <td>1.658707</td>\n",
       "      <td>10.605688</td>\n",
       "      <td>1.688155</td>\n",
       "      <td>5.813250</td>\n",
       "      <td>3588.247900</td>\n",
       "      <td>5.485979e+04</td>\n",
       "      <td>10133.583639</td>\n",
       "      <td>51781.414456</td>\n",
       "      <td>...</td>\n",
       "      <td>3.870975</td>\n",
       "      <td>0.444250</td>\n",
       "      <td>30.488996</td>\n",
       "      <td>24.806054</td>\n",
       "      <td>0.374753</td>\n",
       "      <td>6.260583</td>\n",
       "      <td>0.246612</td>\n",
       "      <td>0.302654</td>\n",
       "      <td>0.321896</td>\n",
       "      <td>NaN</td>\n",
       "    </tr>\n",
       "    <tr>\n",
       "      <th>min</th>\n",
       "      <td>350053.000000</td>\n",
       "      <td>1477.000000</td>\n",
       "      <td>0.000000</td>\n",
       "      <td>0.000000</td>\n",
       "      <td>0.000000</td>\n",
       "      <td>0.000000</td>\n",
       "      <td>0.000000</td>\n",
       "      <td>0.000000e+00</td>\n",
       "      <td>0.000000</td>\n",
       "      <td>0.000000</td>\n",
       "      <td>...</td>\n",
       "      <td>0.000000</td>\n",
       "      <td>0.000000</td>\n",
       "      <td>0.018000</td>\n",
       "      <td>0.000000</td>\n",
       "      <td>0.000000</td>\n",
       "      <td>0.000000</td>\n",
       "      <td>0.072760</td>\n",
       "      <td>0.000000</td>\n",
       "      <td>0.000000</td>\n",
       "      <td>NaN</td>\n",
       "    </tr>\n",
       "    <tr>\n",
       "      <th>25%</th>\n",
       "      <td>356302.750000</td>\n",
       "      <td>1680.000000</td>\n",
       "      <td>0.142725</td>\n",
       "      <td>0.000000</td>\n",
       "      <td>0.000000</td>\n",
       "      <td>0.000000</td>\n",
       "      <td>36.000000</td>\n",
       "      <td>1.701000e+03</td>\n",
       "      <td>494.000000</td>\n",
       "      <td>3518.000000</td>\n",
       "      <td>...</td>\n",
       "      <td>2.000000</td>\n",
       "      <td>0.000000</td>\n",
       "      <td>91.338250</td>\n",
       "      <td>58.179500</td>\n",
       "      <td>0.000000</td>\n",
       "      <td>2.000000</td>\n",
       "      <td>0.509132</td>\n",
       "      <td>0.000000</td>\n",
       "      <td>0.000000</td>\n",
       "      <td>NaN</td>\n",
       "    </tr>\n",
       "    <tr>\n",
       "      <th>50%</th>\n",
       "      <td>362552.500000</td>\n",
       "      <td>1742.000000</td>\n",
       "      <td>0.542400</td>\n",
       "      <td>0.286000</td>\n",
       "      <td>0.000000</td>\n",
       "      <td>0.000000</td>\n",
       "      <td>297.000000</td>\n",
       "      <td>7.011500e+03</td>\n",
       "      <td>2503.000000</td>\n",
       "      <td>14072.000000</td>\n",
       "      <td>...</td>\n",
       "      <td>3.000000</td>\n",
       "      <td>0.000000</td>\n",
       "      <td>100.000000</td>\n",
       "      <td>79.123000</td>\n",
       "      <td>0.200000</td>\n",
       "      <td>5.000000</td>\n",
       "      <td>0.732740</td>\n",
       "      <td>0.000000</td>\n",
       "      <td>0.000000</td>\n",
       "      <td>NaN</td>\n",
       "    </tr>\n",
       "    <tr>\n",
       "      <th>75%</th>\n",
       "      <td>368802.250000</td>\n",
       "      <td>1811.000000</td>\n",
       "      <td>1.469375</td>\n",
       "      <td>6.480000</td>\n",
       "      <td>0.000000</td>\n",
       "      <td>0.000000</td>\n",
       "      <td>1371.000000</td>\n",
       "      <td>1.803575e+04</td>\n",
       "      <td>9595.000000</td>\n",
       "      <td>43009.500000</td>\n",
       "      <td>...</td>\n",
       "      <td>6.000000</td>\n",
       "      <td>0.000000</td>\n",
       "      <td>112.237500</td>\n",
       "      <td>91.666000</td>\n",
       "      <td>0.561950</td>\n",
       "      <td>10.000000</td>\n",
       "      <td>0.942372</td>\n",
       "      <td>0.000000</td>\n",
       "      <td>0.000000</td>\n",
       "      <td>NaN</td>\n",
       "    </tr>\n",
       "    <tr>\n",
       "      <th>max</th>\n",
       "      <td>375052.000000</td>\n",
       "      <td>1950.000000</td>\n",
       "      <td>31.018100</td>\n",
       "      <td>167.740000</td>\n",
       "      <td>21.245200</td>\n",
       "      <td>156.878000</td>\n",
       "      <td>59192.000000</td>\n",
       "      <td>5.637108e+06</td>\n",
       "      <td>223123.000000</td>\n",
       "      <td>840658.000000</td>\n",
       "      <td>...</td>\n",
       "      <td>73.000000</td>\n",
       "      <td>20.000000</td>\n",
       "      <td>631.360000</td>\n",
       "      <td>182.111000</td>\n",
       "      <td>2.000000</td>\n",
       "      <td>63.000000</td>\n",
       "      <td>1.000000</td>\n",
       "      <td>7.000000</td>\n",
       "      <td>3.000000</td>\n",
       "      <td>NaN</td>\n",
       "    </tr>\n",
       "  </tbody>\n",
       "</table>\n",
       "<p>8 rows × 48 columns</p>\n",
       "</div>"
      ],
      "text/plain": [
       "       application_key         mvar1         mvar2         mvar3  \\\n",
       "count     25000.000000  23850.000000  23294.000000  24842.000000   \n",
       "mean     362552.500000   1746.901551      1.118127      5.243267   \n",
       "std        7217.022701     94.088195      1.658707     10.605688   \n",
       "min      350053.000000   1477.000000      0.000000      0.000000   \n",
       "25%      356302.750000   1680.000000      0.142725      0.000000   \n",
       "50%      362552.500000   1742.000000      0.542400      0.286000   \n",
       "75%      368802.250000   1811.000000      1.469375      6.480000   \n",
       "max      375052.000000   1950.000000     31.018100    167.740000   \n",
       "\n",
       "              mvar4         mvar5         mvar6         mvar7          mvar8  \\\n",
       "count  24842.000000  24842.000000  19193.000000  2.269400e+04   19193.000000   \n",
       "mean       0.463290      1.080183   1624.069192  1.775037e+04    6753.202313   \n",
       "std        1.688155      5.813250   3588.247900  5.485979e+04   10133.583639   \n",
       "min        0.000000      0.000000      0.000000  0.000000e+00       0.000000   \n",
       "25%        0.000000      0.000000     36.000000  1.701000e+03     494.000000   \n",
       "50%        0.000000      0.000000    297.000000  7.011500e+03    2503.000000   \n",
       "75%        0.000000      0.000000   1371.000000  1.803575e+04    9595.000000   \n",
       "max       21.245200    156.878000  59192.000000  5.637108e+06  223123.000000   \n",
       "\n",
       "               mvar9   ...          mvar38        mvar39       mvar40  \\\n",
       "count   21523.000000   ...    24842.000000  23078.000000  5458.000000   \n",
       "mean    33825.554662   ...        4.251349      0.089912    98.491140   \n",
       "std     51781.414456   ...        3.870975      0.444250    30.488996   \n",
       "min         0.000000   ...        0.000000      0.000000     0.018000   \n",
       "25%      3518.000000   ...        2.000000      0.000000    91.338250   \n",
       "50%     14072.000000   ...        3.000000      0.000000   100.000000   \n",
       "75%     43009.500000   ...        6.000000      0.000000   112.237500   \n",
       "max    840658.000000   ...       73.000000     20.000000   631.360000   \n",
       "\n",
       "            mvar41        mvar42        mvar43        mvar44        mvar45  \\\n",
       "count  7748.000000  24367.000000  24723.000000  22538.000000  11027.000000   \n",
       "mean     71.990942      0.331992      6.546091      0.702558      0.071280   \n",
       "std      24.806054      0.374753      6.260583      0.246612      0.302654   \n",
       "min       0.000000      0.000000      0.000000      0.072760      0.000000   \n",
       "25%      58.179500      0.000000      2.000000      0.509132      0.000000   \n",
       "50%      79.123000      0.200000      5.000000      0.732740      0.000000   \n",
       "75%      91.666000      0.561950     10.000000      0.942372      0.000000   \n",
       "max     182.111000      2.000000     63.000000      1.000000      7.000000   \n",
       "\n",
       "             mvar46  mvar47  \n",
       "count  17851.000000     0.0  \n",
       "mean       0.092712     NaN  \n",
       "std        0.321896     NaN  \n",
       "min        0.000000     NaN  \n",
       "25%        0.000000     NaN  \n",
       "50%        0.000000     NaN  \n",
       "75%        0.000000     NaN  \n",
       "max        3.000000     NaN  \n",
       "\n",
       "[8 rows x 48 columns]"
      ]
     },
     "execution_count": 28,
     "metadata": {},
     "output_type": "execute_result"
    }
   ],
   "source": [
    "leaderboard_data.describe()"
   ]
  },
  {
   "cell_type": "code",
   "execution_count": 29,
   "metadata": {
    "collapsed": true
   },
   "outputs": [],
   "source": [
    "leaderboard_data['mvar47'] = pd.get_dummies(leaderboard_data_original['mvar47'])"
   ]
  },
  {
   "cell_type": "code",
   "execution_count": 30,
   "metadata": {
    "collapsed": true
   },
   "outputs": [],
   "source": [
    "leaderboard_data.fillna(leaderboard_data.mean(),inplace = True)"
   ]
  },
  {
   "cell_type": "code",
   "execution_count": 31,
   "metadata": {
    "collapsed": true
   },
   "outputs": [],
   "source": [
    "x_test = leaderboard_data.loc[:,'mvar1':]"
   ]
  },
  {
   "cell_type": "code",
   "execution_count": 32,
   "metadata": {},
   "outputs": [
    {
     "data": {
      "text/plain": [
       "LogisticRegression(C=1.0, class_weight=None, dual=False, fit_intercept=True,\n",
       "          intercept_scaling=1, max_iter=100, multi_class='ovr', n_jobs=1,\n",
       "          penalty='l2', random_state=None, solver='liblinear', tol=0.0001,\n",
       "          verbose=0, warm_start=False)"
      ]
     },
     "execution_count": 32,
     "metadata": {},
     "output_type": "execute_result"
    }
   ],
   "source": [
    "from sklearn.linear_model import LogisticRegression\n",
    "clf = LogisticRegression()\n",
    "clf.fit(x_train,y_train)"
   ]
  },
  {
   "cell_type": "code",
   "execution_count": 33,
   "metadata": {
    "collapsed": true
   },
   "outputs": [],
   "source": [
    "pred = clf.predict_proba(x_test)"
   ]
  },
  {
   "cell_type": "code",
   "execution_count": 34,
   "metadata": {
    "collapsed": true
   },
   "outputs": [],
   "source": [
    "pred = pd.DataFrame(pred)\n",
    "pred['application_key'] = leaderboard_data['application_key']"
   ]
  },
  {
   "cell_type": "code",
   "execution_count": 35,
   "metadata": {},
   "outputs": [
    {
     "data": {
      "text/plain": [
       "(25000, 3)"
      ]
     },
     "execution_count": 35,
     "metadata": {},
     "output_type": "execute_result"
    }
   ],
   "source": [
    "pred.shape"
   ]
  },
  {
   "cell_type": "code",
   "execution_count": 36,
   "metadata": {
    "collapsed": true
   },
   "outputs": [],
   "source": [
    "pred = pred.sort_values(by = 0,kind = 'mergesort',ascending = False)"
   ]
  },
  {
   "cell_type": "code",
   "execution_count": 37,
   "metadata": {
    "collapsed": true
   },
   "outputs": [],
   "source": [
    "cols = pred.columns.tolist()\n",
    "cols = cols[-1:] + cols[:-1]\n",
    "pred = pred[cols]"
   ]
  },
  {
   "cell_type": "code",
   "execution_count": 38,
   "metadata": {
    "collapsed": true
   },
   "outputs": [],
   "source": [
    "pred = pred.loc[:,'application_key':]"
   ]
  },
  {
   "cell_type": "code",
   "execution_count": 39,
   "metadata": {
    "collapsed": true
   },
   "outputs": [],
   "source": [
    "submit = pred['application_key'][:10000]"
   ]
  },
  {
   "cell_type": "code",
   "execution_count": 40,
   "metadata": {
    "collapsed": true
   },
   "outputs": [],
   "source": [
    "submit = pd.DataFrame(submit)"
   ]
  },
  {
   "cell_type": "markdown",
   "metadata": {},
   "source": [
    "submit"
   ]
  },
  {
   "cell_type": "code",
   "execution_count": 41,
   "metadata": {
    "collapsed": true
   },
   "outputs": [],
   "source": [
    "submit[0] = 0"
   ]
  },
  {
   "cell_type": "code",
   "execution_count": 42,
   "metadata": {
    "collapsed": true
   },
   "outputs": [],
   "source": [
    "submit.to_csv('flabbergasted_IITGuwahati_52.csv',header = False, index = False)"
   ]
  },
  {
   "cell_type": "markdown",
   "metadata": {},
   "source": []
  },
  {
   "cell_type": "code",
   "execution_count": null,
   "metadata": {
    "collapsed": true
   },
   "outputs": [],
   "source": []
  },
  {
   "cell_type": "markdown",
   "metadata": {},
   "source": []
  },
  {
   "cell_type": "code",
   "execution_count": 57,
   "metadata": {},
   "outputs": [
    {
     "ename": "AttributeError",
     "evalue": "'Series' object has no attribute 'columns'",
     "output_type": "error",
     "traceback": [
      "\u001b[0;31m---------------------------------------------------------------------------\u001b[0m",
      "\u001b[0;31mAttributeError\u001b[0m                            Traceback (most recent call last)",
      "\u001b[0;32m<ipython-input-57-ca57f0e55a1c>\u001b[0m in \u001b[0;36m<module>\u001b[0;34m()\u001b[0m\n\u001b[0;32m----> 1\u001b[0;31m \u001b[0msubmit\u001b[0m\u001b[0;34m.\u001b[0m\u001b[0mcolumns\u001b[0m\u001b[0;34m\u001b[0m\u001b[0m\n\u001b[0m",
      "\u001b[0;32m~/anaconda3/lib/python3.6/site-packages/pandas/core/generic.py\u001b[0m in \u001b[0;36m__getattr__\u001b[0;34m(self, name)\u001b[0m\n\u001b[1;32m   3608\u001b[0m         if (name in self._internal_names_set or name in self._metadata or\n\u001b[1;32m   3609\u001b[0m                 name in self._accessors):\n\u001b[0;32m-> 3610\u001b[0;31m             \u001b[0;32mreturn\u001b[0m \u001b[0mobject\u001b[0m\u001b[0;34m.\u001b[0m\u001b[0m__getattribute__\u001b[0m\u001b[0;34m(\u001b[0m\u001b[0mself\u001b[0m\u001b[0;34m,\u001b[0m \u001b[0mname\u001b[0m\u001b[0;34m)\u001b[0m\u001b[0;34m\u001b[0m\u001b[0m\n\u001b[0m\u001b[1;32m   3611\u001b[0m         \u001b[0;32melse\u001b[0m\u001b[0;34m:\u001b[0m\u001b[0;34m\u001b[0m\u001b[0m\n\u001b[1;32m   3612\u001b[0m             \u001b[0;32mif\u001b[0m \u001b[0mname\u001b[0m \u001b[0;32min\u001b[0m \u001b[0mself\u001b[0m\u001b[0;34m.\u001b[0m\u001b[0m_info_axis\u001b[0m\u001b[0;34m:\u001b[0m\u001b[0;34m\u001b[0m\u001b[0m\n",
      "\u001b[0;31mAttributeError\u001b[0m: 'Series' object has no attribute 'columns'"
     ]
    }
   ],
   "source": []
  },
  {
   "cell_type": "code",
   "execution_count": null,
   "metadata": {
    "collapsed": true
   },
   "outputs": [],
   "source": []
  }
 ],
 "metadata": {
  "kernelspec": {
   "display_name": "Python 2",
   "language": "python",
   "name": "python2"
  },
  "language_info": {
   "codemirror_mode": {
    "name": "ipython",
    "version": 2
   },
   "file_extension": ".py",
   "mimetype": "text/x-python",
   "name": "python",
   "nbconvert_exporter": "python",
   "pygments_lexer": "ipython2",
   "version": "2.7.15rc1"
  }
 },
 "nbformat": 4,
 "nbformat_minor": 2
}
