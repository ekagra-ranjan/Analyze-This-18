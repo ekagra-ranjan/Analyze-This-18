{
 "cells": [
  {
   "cell_type": "code",
   "execution_count": null,
   "metadata": {
    "collapsed": true
   },
   "outputs": [],
   "source": [
    "# This Python 3 environment comes with many helpful analytics libraries installed\n",
    "# It is defined by the kaggle/python docker image: https://github.com/kaggle/docker-python\n",
    "# For example, here's several helpful packages to load in \n",
    "\n",
    "import numpy as np # linear algebra\n",
    "import pandas as pd # data processing, CSV file I/O (e.g. pd.read_csv)\n",
    "\n",
    "# Input data files are available in the \"../input/\" directory.\n",
    "# For example, running this (by clicking run or pressing Shift+Enter) will list the files in the input directory\n",
    "\n",
    "import os\n",
    "print(os.listdir(\"../input\"))\n",
    "\n",
    "# Any results you write to the current directory are saved as output.\n",
    "\n"
   ]
  },
  {
   "cell_type": "code",
   "execution_count": null,
   "metadata": {
    "collapsed": true
   },
   "outputs": [],
   "source": [
    "import numpy as np\n",
    "import pandas as pd\n",
    "import sklearn as sk\n",
    "import matplotlib.pyplot as plt"
   ]
  },
  {
   "cell_type": "code",
   "execution_count": null,
   "metadata": {
    "collapsed": true
   },
   "outputs": [],
   "source": [
    "game_csv = pd.read_csv('../input/Training_dataset_Original.csv',na_values=[\"NA\", \"na\", \"missing\"])\n",
    "gameDf = pd.DataFrame(game_csv)\n",
    "\n",
    "dataDict = pd.read_csv('../input/Data_Dictionary.csv',na_values=\"NA\")"
   ]
  },
  {
   "cell_type": "code",
   "execution_count": null,
   "metadata": {
    "collapsed": true
   },
   "outputs": [],
   "source": [
    "print(gameDf.shape)\n",
    "print(dataDict.shape)"
   ]
  },
  {
   "cell_type": "code",
   "execution_count": null,
   "metadata": {
    "collapsed": true
   },
   "outputs": [],
   "source": [
    "dic = dict(zip(dataDict.values[:, 1], dataDict.values[:, 0]))"
   ]
  },
  {
   "cell_type": "code",
   "execution_count": null,
   "metadata": {
    "collapsed": true
   },
   "outputs": [],
   "source": [
    "#remove ID column\n",
    "del gameDf[dic['Application ID (primary key)']]\n",
    "del dic['Application ID (primary key)']"
   ]
  },
  {
   "cell_type": "code",
   "execution_count": null,
   "metadata": {
    "collapsed": true
   },
   "outputs": [],
   "source": [
    "gameX = gameDf.iloc[:,:-1]\n",
    "gameY = gameDf.iloc[:,-1]"
   ]
  },
  {
   "cell_type": "code",
   "execution_count": null,
   "metadata": {
    "collapsed": true
   },
   "outputs": [],
   "source": [
    "range(gameDf[\"mvar47\"].shape[0])"
   ]
  },
  {
   "cell_type": "code",
   "execution_count": null,
   "metadata": {
    "collapsed": true
   },
   "outputs": [],
   "source": [
    "gameX"
   ]
  },
  {
   "cell_type": "code",
   "execution_count": null,
   "metadata": {
    "collapsed": true
   },
   "outputs": [],
   "source": [
    "gameX.describe()"
   ]
  },
  {
   "cell_type": "code",
   "execution_count": null,
   "metadata": {
    "collapsed": true
   },
   "outputs": [],
   "source": [
    "#one hot encoding C=0 L=1\n",
    "gameX.loc[gameX.loc[:, \"mvar47\"]=='C', \"mvar47\"] = 0\n",
    "gameX.loc[gameX.loc[:, \"mvar47\"]=='L', \"mvar47\"] = 1\n",
    "\n",
    "# gameX = np.array(gameX) \n",
    "# gameX[gameX[:, 46]=='C', 46] = 0\n",
    "# gameX[gameX[:, 46]=='L', 46] = 1\n",
    "# gameX = pd.DataFrame(gameX)\n",
    "\n",
    "# gameX[gameX[\"mvar47\"]=='C'][\"mvar47\"] = 0\n",
    "# gameX[gameX[\"mvar47\"]=='L'][\"mvar47\"] = 1"
   ]
  },
  {
   "cell_type": "code",
   "execution_count": null,
   "metadata": {
    "collapsed": true
   },
   "outputs": [],
   "source": [
    "#Missing values median\n",
    "gameX.fillna(gameX.median(),inplace = True)"
   ]
  },
  {
   "cell_type": "code",
   "execution_count": null,
   "metadata": {
    "collapsed": true
   },
   "outputs": [],
   "source": [
    "def scoring(yhat0, y):\n",
    "    \n",
    "    y = np.array(y)\n",
    "    \n",
    "    pointsMax = 0\n",
    "    thresh=0\n",
    "    \n",
    "    for thresh in np.arange(0.1, 0.9, 0.1):\n",
    "        points = 0\n",
    "        budget = 50000\n",
    "        yhat = np.array(yhat0>thresh, dtype=yhat0.dtype)\n",
    "        for i in range(len(y)):\n",
    "            if y[i] == 0:\n",
    "                if yhat[i] == 0:\n",
    "                    points+=100\n",
    "                    budget-=5\n",
    "                else:\n",
    "                    budget-=10\n",
    "            else:\n",
    "                if yhat[i]==0:\n",
    "                    points-=50\n",
    "                    budget-=10\n",
    "                else:\n",
    "                    points+=100\n",
    "                    budget-=10\n",
    "            if budget<=0:\n",
    "                break\n",
    "        if pointsMax<points:\n",
    "            pointsMax=points\n",
    "            threshMax = thresh\n",
    "            \n",
    "#         print(thresh, \" \", points)\n",
    "            \n",
    "    return pointsMax, threshMax"
   ]
  },
  {
   "cell_type": "code",
   "execution_count": null,
   "metadata": {
    "collapsed": true
   },
   "outputs": [],
   "source": [
    "#KFold Stratified CV\n",
    "from sklearn import model_selection\n",
    "cv = model_selection.StratifiedKFold(n_splits=10, shuffle=True, random_state=100)"
   ]
  },
  {
   "cell_type": "code",
   "execution_count": null,
   "metadata": {
    "collapsed": true
   },
   "outputs": [],
   "source": [
    "from sklearn import model_selection\n",
    "\n",
    "# xtrain, xtest, ytrain, ytest = model_selection.train_test_split(pokemonDf,legends,test_size=0.2,random_state=1)\n",
    "\n",
    "import time\n",
    "from sklearn.grid_search import GridSearchCV\n",
    "from sklearn.ensemble import GradientBoostingClassifier\n",
    "\n",
    "cv = model_selection.StratifiedKFold(n_splits=4, shuffle=True, random_state=100)"
   ]
  },
  {
   "cell_type": "code",
   "execution_count": null,
   "metadata": {
    "collapsed": true
   },
   "outputs": [],
   "source": [
    "t=time.time()\n",
    "\n",
    "xtrain = gameX\n",
    "ytrain = gameY\n",
    "\n",
    "tempGBM=[]\n",
    "finalGBM=[]\n",
    "finalGBMScore=0\n",
    "dMax=1\n",
    "lMax=0\n",
    "nMax=1\n",
    "gbmMax = 0\n",
    "gbmTestScore=0\n",
    "gbmTrainScore=0\n",
    "\n",
    "for d in np.arange(1,8,1):\n",
    "    for l in np.arange(0.001,1,0.016):\n",
    "        for n in np.arange(50,101,50):\n",
    "            tempGBMScore=0\n",
    "            tempGBM=[]\n",
    "            for cvTrain, cvTest in cv.split(xtrain,ytrain):\n",
    "                gbm=GradientBoostingClassifier(max_depth=d, learning_rate=l, n_estimators=n, random_state=100, subsample=1)\n",
    "                gbm.fit(xtrain.iloc[cvTrain], ytrain.iloc[cvTrain])\n",
    "                tempGBM.append(gbm)\n",
    "                points, thresh = scoring(gbm.predict_proba(xtrain.iloc[cvTest])[:, 1] ,ytrain.iloc[cvTest]) \n",
    "                tempGBMScore += points\n",
    "#                 scoring(gbmMax.predict_proba(gameX)[:, 1], gameY)\n",
    "            tempGBMScore/=cv.n_splits\n",
    "            \n",
    "            print('time:', time.time()-t, \"Max Score:\", finalGBMScore, \"thresh:\", thresh ,\" Max l:\", l, \" Max n:\", n, \" Max d\", d)\n",
    "            \n",
    "            if(tempGBMScore>finalGBMScore):\n",
    "                finalGBMScore=tempGBMScore\n",
    "                finalGBM=tempGBM\n",
    "                dMax=d\n",
    "                lMax=l\n",
    "                nMax=n\n",
    "                gbmMax = gbm\n",
    "\n",
    "\n",
    "print('time:', time.time()-t)"
   ]
  },
  {
   "cell_type": "code",
   "execution_count": null,
   "metadata": {
    "collapsed": true
   },
   "outputs": [],
   "source": [
    "gbmMax=GradientBoostingClassifier(max_depth=2, learning_rate=2, n_estimators=2, random_state=100, subsample=1).fit(gameX, gameY)"
   ]
  },
  {
   "cell_type": "code",
   "execution_count": null,
   "metadata": {
    "collapsed": true
   },
   "outputs": [],
   "source": [
    "gbmMax.predict_proba(gameX).shape"
   ]
  },
  {
   "cell_type": "code",
   "execution_count": null,
   "metadata": {
    "collapsed": true
   },
   "outputs": [],
   "source": [
    "gbmMax.predict_proba(gameX)[0:100]"
   ]
  },
  {
   "cell_type": "code",
   "execution_count": null,
   "metadata": {
    "collapsed": true
   },
   "outputs": [],
   "source": [
    "gbmMax.predict(gameX)[:100]"
   ]
  },
  {
   "cell_type": "code",
   "execution_count": null,
   "metadata": {
    "collapsed": true
   },
   "outputs": [],
   "source": [
    "t=time.time()\n",
    "score, thresh = scoring(gbmMax.predict_proba(gameX)[:, 1], gameY)\n",
    "print(score, \" \", thresh)\n",
    "print(time.time()-t)"
   ]
  },
  {
   "cell_type": "code",
   "execution_count": null,
   "metadata": {
    "collapsed": true
   },
   "outputs": [],
   "source": []
  },
  {
   "cell_type": "code",
   "execution_count": null,
   "metadata": {
    "collapsed": true
   },
   "outputs": [],
   "source": []
  },
  {
   "cell_type": "code",
   "execution_count": null,
   "metadata": {
    "collapsed": true
   },
   "outputs": [],
   "source": [
    "clf = gbmMax"
   ]
  },
  {
   "cell_type": "code",
   "execution_count": null,
   "metadata": {
    "collapsed": true
   },
   "outputs": [],
   "source": [
    "#Leaderboard\n",
    "\n",
    "\n",
    "leader_csv = pd.read_csv('../input/Leaderboard_dataset.csv',na_values=[\"NA\", \"na\", \"missing\"])\n",
    "leaderDf = pd.DataFrame(leader_csv)\n",
    "\n",
    "\n",
    "\n",
    "leaderAppID = leaderDf['application_key']\n",
    "del leaderDf['application_key']\n",
    "\n",
    "\n",
    "\n",
    "leaderX = leaderDf"
   ]
  },
  {
   "cell_type": "code",
   "execution_count": null,
   "metadata": {
    "collapsed": true
   },
   "outputs": [],
   "source": [
    "#one hot encoding C=0 L=1\n",
    "leaderX.loc[leaderX.loc[:, \"mvar47\"]=='C', \"mvar47\"] = 0\n",
    "leaderX.loc[leaderX.loc[:, \"mvar47\"]=='L', \"mvar47\"] = 1\n"
   ]
  },
  {
   "cell_type": "code",
   "execution_count": null,
   "metadata": {
    "collapsed": true
   },
   "outputs": [],
   "source": [
    "#Missing values median\n",
    "leaderX.fillna(leaderX.median(),inplace = True)"
   ]
  },
  {
   "cell_type": "code",
   "execution_count": null,
   "metadata": {
    "collapsed": true
   },
   "outputs": [],
   "source": [
    "pred = clf.predict_proba(leaderX)[:, 1]\n",
    "pred = pd.DataFrame(pred)\n",
    "pred['application_key'] = leaderAppID\n",
    "pred = pred.sort_values(by = 0,kind = 'mergesort',ascending = False)"
   ]
  },
  {
   "cell_type": "code",
   "execution_count": null,
   "metadata": {
    "collapsed": true
   },
   "outputs": [],
   "source": [
    "# thresh = 0.6\n",
    "pred = np.array(pred)\n",
    "pred[pred[:, 0]>thresh, 0] = 1\n",
    "pred[pred[:, 0]<=thresh, 0] = 0"
   ]
  },
  {
   "cell_type": "code",
   "execution_count": null,
   "metadata": {
    "collapsed": true
   },
   "outputs": [],
   "source": [
    "pred = pd.DataFrame(pred)"
   ]
  },
  {
   "cell_type": "code",
   "execution_count": null,
   "metadata": {
    "collapsed": true
   },
   "outputs": [],
   "source": [
    "cols = pred.columns.tolist()\n",
    "cols = cols[-1:] + cols[:-1]\n",
    "pred = pred[cols]\n",
    "submit = pred.iloc[:10000, :]\n",
    "submit = pd.DataFrame(submit)\n",
    "submit[0] = 0\n",
    "submit.to_csv('flabbergasted_IITGuwahati_10.csv',header = False, index = False)\n",
    "\n"
   ]
  },
  {
   "cell_type": "code",
   "execution_count": null,
   "metadata": {
    "collapsed": true
   },
   "outputs": [],
   "source": []
  },
  {
   "cell_type": "code",
   "execution_count": null,
   "metadata": {
    "collapsed": true
   },
   "outputs": [],
   "source": []
  },
  {
   "cell_type": "code",
   "execution_count": null,
   "metadata": {
    "collapsed": true
   },
   "outputs": [],
   "source": [
    "t=time.time()\n",
    "\n",
    "xtrain = gameX\n",
    "ytrain = gameY\n",
    "\n",
    "tempGBM=[]\n",
    "finalGBM=[]\n",
    "finalGBMScore=0\n",
    "dMax=1\n",
    "lMax=0\n",
    "nMax=1\n",
    "gbmMax = 0\n",
    "gbmTestScore=0\n",
    "gbmTrainScore=0\n",
    "\n",
    "for d in np.arange(1,8,1):\n",
    "    for l in np.arange(0.001,1.2,0.05):\n",
    "        for n in np.arange(50,99,50):\n",
    "            tempGBMScore=0\n",
    "            tempGBM=[]\n",
    "            for cvTrain, cvTest in cv.split(xtrain,ytrain):\n",
    "                gbm=GradientBoostingClassifier(max_depth=d, learning_rate=l, n_estimators=n, random_state=100, subsample=1)\n",
    "                gbm.fit(xtrain.iloc[cvTrain], ytrain.iloc[cvTrain])\n",
    "                tempGBM.append(gbm)\n",
    "                points, thresh = scoring(gbm.predict_proba(xtrain.iloc[cvTest])[:, 1] ,ytrain.iloc[cvTest]) \n",
    "                tempGBMScore += points\n",
    "#                 scoring(gbmMax.predict_proba(gameX)[:, 1], gameY)\n",
    "            tempGBMScore/=cv.n_splits\n",
    "            \n",
    "            print('time:', time.time()-t, \"Max Score:\", finalGBMScore, \"thresh:\", thresh ,\" Max l:\", l, \" Max n:\", n, \" Max d\", d)\n",
    "            \n",
    "            if(tempGBMScore>finalGBMScore):\n",
    "                finalGBMScore=tempGBMScore\n",
    "                finalGBM=tempGBM\n",
    "                dMax=d\n",
    "                lMax=l\n",
    "                nMax=n\n",
    "                gbmMax = gbm\n",
    "\n",
    "\n",
    "print('time:', time.time()-t)"
   ]
  }
 ],
 "metadata": {
  "kernelspec": {
   "display_name": "Python 3",
   "language": "python",
   "name": "python3"
  },
  "language_info": {
   "codemirror_mode": {
    "name": "ipython",
    "version": 3
   },
   "file_extension": ".py",
   "mimetype": "text/x-python",
   "name": "python",
   "nbconvert_exporter": "python",
   "pygments_lexer": "ipython3",
   "version": "3.6.1"
  }
 },
 "nbformat": 4,
 "nbformat_minor": 2
}
